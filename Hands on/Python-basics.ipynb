{
 "cells": [
  {
   "cell_type": "code",
   "execution_count": 10,
   "id": "633dc8ab",
   "metadata": {},
   "outputs": [],
   "source": [
    "#lists\n",
    "list1 = [1,4,7,9,6,4]"
   ]
  },
  {
   "cell_type": "code",
   "execution_count": 11,
   "id": "be63dbc9",
   "metadata": {},
   "outputs": [
    {
     "data": {
      "text/plain": [
       "6"
      ]
     },
     "execution_count": 11,
     "metadata": {},
     "output_type": "execute_result"
    }
   ],
   "source": [
    "len(list1)"
   ]
  },
  {
   "cell_type": "code",
   "execution_count": 3,
   "id": "df003062",
   "metadata": {},
   "outputs": [],
   "source": [
    "sum=list1[0]+list1[3]+list1[2]"
   ]
  },
  {
   "cell_type": "code",
   "execution_count": 4,
   "id": "4bbe030e",
   "metadata": {},
   "outputs": [
    {
     "data": {
      "text/plain": [
       "17"
      ]
     },
     "execution_count": 4,
     "metadata": {},
     "output_type": "execute_result"
    }
   ],
   "source": [
    "sum"
   ]
  },
  {
   "cell_type": "code",
   "execution_count": 5,
   "id": "058eda74",
   "metadata": {},
   "outputs": [
    {
     "data": {
      "text/plain": [
       "9"
      ]
     },
     "execution_count": 5,
     "metadata": {},
     "output_type": "execute_result"
    }
   ],
   "source": [
    "list1[3]"
   ]
  },
  {
   "cell_type": "code",
   "execution_count": 6,
   "id": "419787ad",
   "metadata": {},
   "outputs": [],
   "source": [
    "list2=['now','it']\n",
    "list3=['hi','world']\n",
    "list4=list2+list3"
   ]
  },
  {
   "cell_type": "code",
   "execution_count": 7,
   "id": "c95ba40a",
   "metadata": {},
   "outputs": [
    {
     "data": {
      "text/plain": [
       "['now', 'it', 'hi', 'world']"
      ]
     },
     "execution_count": 7,
     "metadata": {},
     "output_type": "execute_result"
    }
   ],
   "source": [
    "list4"
   ]
  },
  {
   "cell_type": "code",
   "execution_count": 8,
   "id": "176d6e14",
   "metadata": {},
   "outputs": [
    {
     "data": {
      "text/plain": [
       "['now', 'it', 'now', 'it']"
      ]
     },
     "execution_count": 8,
     "metadata": {},
     "output_type": "execute_result"
    }
   ],
   "source": [
    "list2*2"
   ]
  },
  {
   "cell_type": "code",
   "execution_count": 9,
   "id": "bb0db6b8",
   "metadata": {},
   "outputs": [],
   "source": [
    "list5=['today','is',list2,['sunday']]"
   ]
  },
  {
   "cell_type": "code",
   "execution_count": 10,
   "id": "5569af7c",
   "metadata": {},
   "outputs": [
    {
     "data": {
      "text/plain": [
       "['today', 'is', ['now', 'it'], ['sunday']]"
      ]
     },
     "execution_count": 10,
     "metadata": {},
     "output_type": "execute_result"
    }
   ],
   "source": [
    "list5"
   ]
  },
  {
   "cell_type": "code",
   "execution_count": 11,
   "id": "2728b813",
   "metadata": {},
   "outputs": [
    {
     "data": {
      "text/plain": [
       "['sunday']"
      ]
     },
     "execution_count": 11,
     "metadata": {},
     "output_type": "execute_result"
    }
   ],
   "source": [
    "list5[3]"
   ]
  },
  {
   "cell_type": "code",
   "execution_count": 12,
   "id": "7b542d4b",
   "metadata": {},
   "outputs": [],
   "source": [
    "#dictionary\n",
    "Phonelist={'Jane':'234','Bob':'345','Henry':'790'}"
   ]
  },
  {
   "cell_type": "code",
   "execution_count": 13,
   "id": "105a2e5b",
   "metadata": {},
   "outputs": [
    {
     "data": {
      "text/plain": [
       "'234'"
      ]
     },
     "execution_count": 13,
     "metadata": {},
     "output_type": "execute_result"
    }
   ],
   "source": [
    "Phonelist['Jane']"
   ]
  },
  {
   "cell_type": "code",
   "execution_count": 14,
   "id": "e0da0d69",
   "metadata": {},
   "outputs": [
    {
     "data": {
      "text/plain": [
       "dict_keys(['Jane', 'Bob', 'Henry'])"
      ]
     },
     "execution_count": 14,
     "metadata": {},
     "output_type": "execute_result"
    }
   ],
   "source": [
    "Phonelist.keys()"
   ]
  },
  {
   "cell_type": "code",
   "execution_count": 15,
   "id": "f35f1c0e",
   "metadata": {},
   "outputs": [
    {
     "data": {
      "text/plain": [
       "dict_values(['234', '345', '790'])"
      ]
     },
     "execution_count": 15,
     "metadata": {},
     "output_type": "execute_result"
    }
   ],
   "source": [
    "Phonelist.values()"
   ]
  },
  {
   "cell_type": "code",
   "execution_count": 19,
   "id": "db4ba387",
   "metadata": {},
   "outputs": [
    {
     "name": "stdout",
     "output_type": "stream",
     "text": [
      "Jane: 234\n",
      "Bob: 345\n",
      "Henry: 790\n"
     ]
    }
   ],
   "source": [
    "for key in Phonelist.keys():\n",
    "    print(key+': '+ Phonelist[key])"
   ]
  },
  {
   "cell_type": "code",
   "execution_count": 20,
   "id": "379dfa0b",
   "metadata": {},
   "outputs": [
    {
     "name": "stdout",
     "output_type": "stream",
     "text": [
      "Enter first number\n",
      "1\n",
      "Enter the second number\n",
      "2\n",
      "Enter the operator (+,-,*,/)\n",
      "+\n",
      "3\n"
     ]
    }
   ],
   "source": [
    "print(\"Enter first number\")\n",
    "num1=int(input())\n",
    "print('Enter the second number')\n",
    "num2=int(input())\n",
    "print('Enter the operator (+,-,*,/)')\n",
    "op = input()\n",
    "if op=='+':\n",
    "    print(num1+num2)\n",
    "elif op=='-':\n",
    "    print(num1-num2)\n",
    "elif op=='*':\n",
    "    print(num1*num2)\n",
    "elif op=='/':\n",
    "    print(num1/num2)\n",
    "else:\n",
    "    print(\"Invalid Request\")"
   ]
  },
  {
   "cell_type": "code",
   "execution_count": 31,
   "id": "4f1f868e",
   "metadata": {},
   "outputs": [],
   "source": [
    "avg=0\n",
    "total=0\n",
    "count=0"
   ]
  },
  {
   "cell_type": "code",
   "execution_count": 32,
   "id": "96f58174",
   "metadata": {},
   "outputs": [
    {
     "name": "stdout",
     "output_type": "stream",
     "text": [
      "Enter a number:\n",
      "1\n"
     ]
    }
   ],
   "source": [
    "print(\"Enter a number:\")\n",
    "number=int(input())"
   ]
  },
  {
   "cell_type": "code",
   "execution_count": 35,
   "id": "9d678daf",
   "metadata": {},
   "outputs": [
    {
     "name": "stdout",
     "output_type": "stream",
     "text": [
      "the average is: 2.6666666666666665\n"
     ]
    }
   ],
   "source": [
    "while number!=-1:\n",
    "    total+=number\n",
    "    count+=1\n",
    "    print(\"Enter a number: \")\n",
    "    number=int(input())\n",
    "avg=total/count\n",
    "print('the average is: '+str(avg))"
   ]
  },
  {
   "cell_type": "code",
   "execution_count": 36,
   "id": "ccf8c9d4",
   "metadata": {},
   "outputs": [],
   "source": [
    "# function and its calling\n",
    "\n",
    "def fact(number):\n",
    "    product=1\n",
    "    for i in range(1,number+1):\n",
    "        product*=i\n",
    "    return product"
   ]
  },
  {
   "cell_type": "code",
   "execution_count": 37,
   "id": "56c2fbfa",
   "metadata": {},
   "outputs": [
    {
     "name": "stdout",
     "output_type": "stream",
     "text": [
      "Enter a number\n",
      "2\n",
      "2\n"
     ]
    }
   ],
   "source": [
    "print(\"Enter a number\")\n",
    "num=int(input())\n",
    "print(fact(num))"
   ]
  },
  {
   "cell_type": "code",
   "execution_count": null,
   "id": "e7e1089e",
   "metadata": {},
   "outputs": [],
   "source": []
  }
 ],
 "metadata": {
  "hide_input": false,
  "kernelspec": {
   "display_name": "Python 3 (ipykernel)",
   "language": "python",
   "name": "python3"
  },
  "language_info": {
   "codemirror_mode": {
    "name": "ipython",
    "version": 3
   },
   "file_extension": ".py",
   "mimetype": "text/x-python",
   "name": "python",
   "nbconvert_exporter": "python",
   "pygments_lexer": "ipython3",
   "version": "3.10.5"
  },
  "toc": {
   "base_numbering": 1,
   "nav_menu": {},
   "number_sections": true,
   "sideBar": true,
   "skip_h1_title": false,
   "title_cell": "Table of Contents",
   "title_sidebar": "Contents",
   "toc_cell": false,
   "toc_position": {},
   "toc_section_display": true,
   "toc_window_display": false
  },
  "varInspector": {
   "cols": {
    "lenName": 16,
    "lenType": 16,
    "lenVar": 40
   },
   "kernels_config": {
    "python": {
     "delete_cmd_postfix": "",
     "delete_cmd_prefix": "del ",
     "library": "var_list.py",
     "varRefreshCmd": "print(var_dic_list())"
    },
    "r": {
     "delete_cmd_postfix": ") ",
     "delete_cmd_prefix": "rm(",
     "library": "var_list.r",
     "varRefreshCmd": "cat(var_dic_list()) "
    }
   },
   "types_to_exclude": [
    "module",
    "function",
    "builtin_function_or_method",
    "instance",
    "_Feature"
   ],
   "window_display": false
  }
 },
 "nbformat": 4,
 "nbformat_minor": 5
}
